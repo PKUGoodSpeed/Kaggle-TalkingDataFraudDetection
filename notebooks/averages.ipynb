{
 "cells": [
  {
   "cell_type": "code",
   "execution_count": 10,
   "metadata": {},
   "outputs": [],
   "source": [
    "import numpy as np\n",
    "import pandas as pd\n",
    "from IPython.display import display\n",
    "from sklearn.metrics import roc_auc_score\n",
    "import os"
   ]
  },
  {
   "cell_type": "code",
   "execution_count": 11,
   "metadata": {},
   "outputs": [
    {
     "name": "stdout",
     "output_type": "stream",
     "text": [
      "['lightGBM_3']\n"
     ]
    }
   ],
   "source": [
    "models = ['lightGBM_3']\n",
    "print models"
   ]
  },
  {
   "cell_type": "code",
   "execution_count": 12,
   "metadata": {},
   "outputs": [
    {
     "name": "stdout",
     "output_type": "stream",
     "text": [
      "15000000\n",
      "37062\n"
     ]
    }
   ],
   "source": [
    "df = pd.read_csv('../output/{0}/fold_1/oof_pred.csv'.format(models[0]))\n",
    "target = df.is_attributed.values\n",
    "n = len(df)\n",
    "print n\n",
    "print list(target).count(1)"
   ]
  },
  {
   "cell_type": "code",
   "execution_count": 13,
   "metadata": {},
   "outputs": [
    {
     "name": "stdout",
     "output_type": "stream",
     "text": [
      "18790469\n"
     ]
    }
   ],
   "source": [
    "df = pd.read_csv('../output/{0}/fold_1/test_pred.csv'.format(models[0]))\n",
    "ids = df.click_id.tolist()\n",
    "n_test = len(df)\n",
    "print n_test"
   ]
  },
  {
   "cell_type": "markdown",
   "metadata": {},
   "source": [
    "##### Simple average"
   ]
  },
  {
   "cell_type": "code",
   "execution_count": 14,
   "metadata": {},
   "outputs": [
    {
     "name": "stdout",
     "output_type": "stream",
     "text": [
      "Checking the ave of lightGBM_3\n",
      "1 0.977313749841 2 0.977280419459 \n",
      " SCORE=0.977644989916\n"
     ]
    }
   ],
   "source": [
    "output_dir = '../simple_ave1'\n",
    "if not os.path.exists(output_dir):\n",
    "    os.makedirs(output_dir)\n",
    "for m in models:\n",
    "    print \"Checking the ave of \" + m\n",
    "    ans = np.zeros(n)\n",
    "    testp = np.zeros(n_test)\n",
    "    for i in range(1, 3):\n",
    "        print i,\n",
    "        df = pd.read_csv('../output/{0}/fold_{1}/oof_pred.csv'.format(m, i))\n",
    "        tmp = np.array(df.pred.tolist())\n",
    "        print roc_auc_score(target, tmp),\n",
    "        ans += 1./2. * tmp\n",
    "        df = pd.read_csv('../output/{0}/fold_{1}/test_pred.csv'.format(m, i))\n",
    "        testp += 1./2. * np.array(df.pred.tolist())\n",
    "    score = roc_auc_score(target, ans)\n",
    "    print \"\\n SCORE=\" + str(score)\n",
    "    oof_df = pd.DataFrame({\n",
    "        'is_attributed': list(target),\n",
    "        'pred': list(ans)\n",
    "    })\n",
    "    oof_df = oof_df[['is_attributed', 'pred']]\n",
    "    oof_df.to_csv(output_dir + '/' + m + '_oof_{SCORE}.csv'.format(SCORE=str(score)), index=False)\n",
    "    test_df = pd.DataFrame({\n",
    "        'click_id': ids,\n",
    "        'is_attributed': testp\n",
    "    })\n",
    "    test_df['click_id'] = test_df['click_id'].astype(int)\n",
    "    test_df = test_df[['click_id', 'is_attributed']]\n",
    "    test_df.to_csv(output_dir + '/' + m + '_test.csv', index=False)"
   ]
  },
  {
   "cell_type": "markdown",
   "metadata": {},
   "source": [
    "### Exponential Average"
   ]
  },
  {
   "cell_type": "code",
   "execution_count": 15,
   "metadata": {
    "collapsed": true
   },
   "outputs": [],
   "source": [
    "delta = 1E-10\n",
    "def sigmoid(x):\n",
    "    return 1. / (np.exp(-x)+1.)\n",
    "def upper(x):\n",
    "    return min(x, 1.-delta)\n",
    "def lower(x):\n",
    "    return max(x, delta)\n",
    "def rev(x):\n",
    "    return -np.log(1./x - 1.)"
   ]
  },
  {
   "cell_type": "code",
   "execution_count": 16,
   "metadata": {},
   "outputs": [
    {
     "name": "stdout",
     "output_type": "stream",
     "text": [
      "15000000\n",
      "Checking the ave of lightGBM_3\n",
      "1 0.977313749841 2 0.977280419459 \n",
      " SCORE=0.977633547864\n"
     ]
    }
   ],
   "source": [
    "output_dir = '../exponential_ave1'\n",
    "print len(target)\n",
    "if not os.path.exists(output_dir):\n",
    "    os.makedirs(output_dir)\n",
    "for m in models:\n",
    "    print \"Checking the ave of \" + m\n",
    "    ans = np.zeros(n)\n",
    "    testp = np.zeros(n_test)\n",
    "    for i in range(1, 3):\n",
    "        print i,\n",
    "        df = pd.read_csv('../output/{0}/fold_{1}/oof_pred.csv'.format(m, i))\n",
    "        df.pred = df.pred.apply(upper)\n",
    "        df.pred = df.pred.apply(lower)\n",
    "        df.pred = df.pred.apply(rev)\n",
    "        tmp = np.array(df.pred.tolist())\n",
    "        print roc_auc_score(target, sigmoid(tmp)),\n",
    "        ans += 1./2. * tmp\n",
    "        df = pd.read_csv('../output/{0}/fold_{1}/test_pred.csv'.format(m, i))\n",
    "        df.pred = df.pred.apply(upper)\n",
    "        df.pred = df.pred.apply(lower)\n",
    "        df.pred = df.pred.apply(rev)\n",
    "        testp += 1./2. * np.array(df.pred.tolist())\n",
    "    ans = sigmoid(ans)\n",
    "    testp = sigmoid(testp)\n",
    "    score = roc_auc_score(target, ans)\n",
    "    print \"\\n SCORE=\" + str(score)\n",
    "    oof_df = pd.DataFrame({\n",
    "        'is_attributed': list(target),\n",
    "        'pred': list(ans)\n",
    "    })\n",
    "    oof_df = oof_df[['is_attributed', 'pred']]\n",
    "    oof_df.to_csv(output_dir + '/' + m + '_oof_{SCORE}.csv'.format(SCORE=str(score)), index=False)\n",
    "    test_df = pd.DataFrame({\n",
    "        'click_id': ids,\n",
    "        'is_attributed': testp\n",
    "    })\n",
    "    test_df['click_id'] = test_df['click_id'].astype(int)\n",
    "    test_df = test_df[['click_id', 'is_attributed']]\n",
    "    test_df.to_csv(output_dir + '/' + m + '_test.csv', index=False)"
   ]
  },
  {
   "cell_type": "markdown",
   "metadata": {},
   "source": [
    "##### Grid Search"
   ]
  },
  {
   "cell_type": "code",
   "execution_count": 17,
   "metadata": {
    "collapsed": true
   },
   "outputs": [],
   "source": [
    "def gridSearch(vecs, reso=0.02):\n",
    "    assert len(vecs) == 9\n",
    "    coeff = np.zeros(9)\n",
    "    coeff[0] = 1.\n",
    "    score = roc_auc_score(target, np.dot(coeff, vecs))\n",
    "    for c1 in np.arange(0, 1., reso):\n",
    "        print c1,\n",
    "        for c2 in np.arange(0, 1.-c1, reso):\n",
    "            for c3 in np.arange(0, 1.-c1-c2, reso):\n",
    "                for c4 in np.arange(0, 1.-c1-c2-c3, reso):\n",
    "                    for c5 in np.arange(0, 1.-c1-c2-c3-c4, reso):\n",
    "                        for c6 in np.arange(0, 1.-c1-c2-c3-c4-c5, reso):\n",
    "                            for c7 in np.arange(0, 1.-c1-c2-c3-c4-c5-c6, reso):\n",
    "                                for c8 in np.arange(0, 1.-c1-c2-c3-c4-c5-c6-c7, reso):\n",
    "                                    c9 = 1.-c1-c2-c3-c4-c5-c6-c7-c8\n",
    "                                    tmp_coeff = np.array([c1, c2, c3, c4, c5, c6, c7, c8, c9])\n",
    "                                    tmp_score = roc_auc_score(target, np.dot(tmp_coeff, vecs))\n",
    "                                    if tmp_score > score:\n",
    "                                        coeff = tmp_coeff\n",
    "                                        score = tmp_score\n",
    "    return coeff, score"
   ]
  },
  {
   "cell_type": "code",
   "execution_count": null,
   "metadata": {
    "collapsed": true
   },
   "outputs": [],
   "source": []
  },
  {
   "cell_type": "code",
   "execution_count": null,
   "metadata": {
    "collapsed": true
   },
   "outputs": [],
   "source": []
  },
  {
   "cell_type": "code",
   "execution_count": null,
   "metadata": {
    "collapsed": true
   },
   "outputs": [],
   "source": []
  }
 ],
 "metadata": {
  "kernelspec": {
   "display_name": "Python 2",
   "language": "python",
   "name": "python2"
  },
  "language_info": {
   "codemirror_mode": {
    "name": "ipython",
    "version": 2
   },
   "file_extension": ".py",
   "mimetype": "text/x-python",
   "name": "python",
   "nbconvert_exporter": "python",
   "pygments_lexer": "ipython2",
   "version": "2.7.13"
  }
 },
 "nbformat": 4,
 "nbformat_minor": 2
}
