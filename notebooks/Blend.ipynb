{
 "cells": [
  {
   "cell_type": "code",
   "execution_count": 2,
   "metadata": {
    "collapsed": true
   },
   "outputs": [],
   "source": [
    "import os\n",
    "import numpy as np\n",
    "import pandas as pd\n",
    "from IPython.display import display"
   ]
  },
  {
   "cell_type": "code",
   "execution_count": 10,
   "metadata": {},
   "outputs": [
    {
     "data": {
      "text/html": [
       "<div>\n",
       "<table border=\"1\" class=\"dataframe\">\n",
       "  <thead>\n",
       "    <tr style=\"text-align: right;\">\n",
       "      <th></th>\n",
       "      <th>click_id</th>\n",
       "      <th>is_attributed</th>\n",
       "    </tr>\n",
       "  </thead>\n",
       "  <tbody>\n",
       "    <tr>\n",
       "      <th>0</th>\n",
       "      <td>0</td>\n",
       "      <td>0.079476</td>\n",
       "    </tr>\n",
       "    <tr>\n",
       "      <th>1</th>\n",
       "      <td>1</td>\n",
       "      <td>0.019888</td>\n",
       "    </tr>\n",
       "    <tr>\n",
       "      <th>2</th>\n",
       "      <td>2</td>\n",
       "      <td>0.002251</td>\n",
       "    </tr>\n",
       "  </tbody>\n",
       "</table>\n",
       "</div>"
      ],
      "text/plain": [
       "   click_id  is_attributed\n",
       "0         0       0.079476\n",
       "1         1       0.019888\n",
       "2         2       0.002251"
      ]
     },
     "metadata": {},
     "output_type": "display_data"
    },
    {
     "data": {
      "text/html": [
       "<div>\n",
       "<table border=\"1\" class=\"dataframe\">\n",
       "  <thead>\n",
       "    <tr style=\"text-align: right;\">\n",
       "      <th></th>\n",
       "      <th>click_id</th>\n",
       "      <th>is_attributed</th>\n",
       "    </tr>\n",
       "  </thead>\n",
       "  <tbody>\n",
       "    <tr>\n",
       "      <th>0</th>\n",
       "      <td>0</td>\n",
       "      <td>0.074376</td>\n",
       "    </tr>\n",
       "    <tr>\n",
       "      <th>1</th>\n",
       "      <td>1</td>\n",
       "      <td>0.010013</td>\n",
       "    </tr>\n",
       "    <tr>\n",
       "      <th>2</th>\n",
       "      <td>2</td>\n",
       "      <td>0.001023</td>\n",
       "    </tr>\n",
       "  </tbody>\n",
       "</table>\n",
       "</div>"
      ],
      "text/plain": [
       "   click_id  is_attributed\n",
       "0         0       0.074376\n",
       "1         1       0.010013\n",
       "2         2       0.001023"
      ]
     },
     "metadata": {},
     "output_type": "display_data"
    },
    {
     "data": {
      "text/html": [
       "<div>\n",
       "<table border=\"1\" class=\"dataframe\">\n",
       "  <thead>\n",
       "    <tr style=\"text-align: right;\">\n",
       "      <th></th>\n",
       "      <th>click_id</th>\n",
       "      <th>is_attributed</th>\n",
       "    </tr>\n",
       "  </thead>\n",
       "  <tbody>\n",
       "    <tr>\n",
       "      <th>0</th>\n",
       "      <td>0</td>\n",
       "      <td>0.025129</td>\n",
       "    </tr>\n",
       "    <tr>\n",
       "      <th>1</th>\n",
       "      <td>1</td>\n",
       "      <td>0.003293</td>\n",
       "    </tr>\n",
       "    <tr>\n",
       "      <th>2</th>\n",
       "      <td>2</td>\n",
       "      <td>0.000273</td>\n",
       "    </tr>\n",
       "  </tbody>\n",
       "</table>\n",
       "</div>"
      ],
      "text/plain": [
       "   click_id  is_attributed\n",
       "0         0       0.025129\n",
       "1         1       0.003293\n",
       "2         2       0.000273"
      ]
     },
     "metadata": {},
     "output_type": "display_data"
    },
    {
     "data": {
      "text/html": [
       "<div>\n",
       "<table border=\"1\" class=\"dataframe\">\n",
       "  <thead>\n",
       "    <tr style=\"text-align: right;\">\n",
       "      <th></th>\n",
       "      <th>click_id</th>\n",
       "      <th>is_attributed</th>\n",
       "    </tr>\n",
       "  </thead>\n",
       "  <tbody>\n",
       "    <tr>\n",
       "      <th>0</th>\n",
       "      <td>0</td>\n",
       "      <td>0.038317</td>\n",
       "    </tr>\n",
       "    <tr>\n",
       "      <th>1</th>\n",
       "      <td>1</td>\n",
       "      <td>0.001390</td>\n",
       "    </tr>\n",
       "    <tr>\n",
       "      <th>2</th>\n",
       "      <td>2</td>\n",
       "      <td>0.000022</td>\n",
       "    </tr>\n",
       "  </tbody>\n",
       "</table>\n",
       "</div>"
      ],
      "text/plain": [
       "   click_id  is_attributed\n",
       "0         0       0.038317\n",
       "1         1       0.001390\n",
       "2         2       0.000022"
      ]
     },
     "metadata": {},
     "output_type": "display_data"
    },
    {
     "name": "stdout",
     "output_type": "stream",
     "text": [
      "(18790469, 2) (18790469, 2) (18790469, 2) (18790469, 2)\n"
     ]
    }
   ],
   "source": [
    "df_A = pd.read_csv('../data/A.csv')\n",
    "df_B = pd.read_csv('../data/B.csv')\n",
    "df_C = pd.read_csv('../data/C.csv')\n",
    "df_D = pd.read_csv('../data/D.csv')\n",
    "display(df_A[:3])\n",
    "display(df_B[:3])\n",
    "display(df_C[:3])\n",
    "display(df_D[:3])\n",
    "print df_A.shape, df_B.shape, df_C.shape, df_D.shape"
   ]
  },
  {
   "cell_type": "code",
   "execution_count": 11,
   "metadata": {
    "collapsed": true
   },
   "outputs": [],
   "source": [
    "delta = 1E-10\n",
    "def sigmoid(x):\n",
    "    1. / (np.exp(-x)+1.)\n",
    "def upper(x):\n",
    "    return min(x, 1.-delta)\n",
    "def lower(x):\n",
    "    return max(x, delta)\n",
    "def rev(x):\n",
    "    return -np.log(1./x - 1.)"
   ]
  },
  {
   "cell_type": "code",
   "execution_count": 12,
   "metadata": {},
   "outputs": [
    {
     "name": "stdout",
     "output_type": "stream",
     "text": [
      "CPU times: user 7.7 s, sys: 464 ms, total: 8.17 s\n",
      "Wall time: 8.11 s\n",
      "CPU times: user 6.96 s, sys: 298 ms, total: 7.26 s\n",
      "Wall time: 7.19 s\n",
      "CPU times: user 41.9 s, sys: 853 ms, total: 42.7 s\n",
      "Wall time: 42.5 s\n",
      "CPU times: user 7.65 s, sys: 373 ms, total: 8.02 s\n",
      "Wall time: 7.87 s\n",
      "CPU times: user 7.01 s, sys: 345 ms, total: 7.35 s\n",
      "Wall time: 7.25 s\n",
      "CPU times: user 42.5 s, sys: 832 ms, total: 43.4 s\n",
      "Wall time: 43.1 s\n",
      "CPU times: user 7.75 s, sys: 382 ms, total: 8.14 s\n",
      "Wall time: 8.03 s\n",
      "CPU times: user 7.13 s, sys: 389 ms, total: 7.52 s\n",
      "Wall time: 7.36 s\n",
      "CPU times: user 42.6 s, sys: 920 ms, total: 43.5 s\n",
      "Wall time: 43.3 s\n",
      "CPU times: user 7.69 s, sys: 337 ms, total: 8.02 s\n",
      "Wall time: 7.92 s\n",
      "CPU times: user 7.1 s, sys: 407 ms, total: 7.5 s\n",
      "Wall time: 7.31 s\n",
      "CPU times: user 42.3 s, sys: 880 ms, total: 43.2 s\n",
      "Wall time: 42.9 s\n"
     ]
    }
   ],
   "source": [
    "%time df_A.is_attributed = df_A.is_attributed.apply(upper)\n",
    "%time df_A.is_attributed = df_A.is_attributed.apply(lower)\n",
    "%time df_A['coeff'] = df_A.is_attributed.apply(rev)\n",
    "%time df_B.is_attributed = df_B.is_attributed.apply(upper)\n",
    "%time df_B.is_attributed = df_B.is_attributed.apply(lower)\n",
    "%time df_B['coeff'] = df_B.is_attributed.apply(rev)\n",
    "%time df_C.is_attributed = df_C.is_attributed.apply(upper)\n",
    "%time df_C.is_attributed = df_C.is_attributed.apply(lower)\n",
    "%time df_C['coeff'] = df_C.is_attributed.apply(rev)\n",
    "%time df_D.is_attributed = df_D.is_attributed.apply(upper)\n",
    "%time df_D.is_attributed = df_D.is_attributed.apply(lower)\n",
    "%time df_D['coeff'] = df_D.is_attributed.apply(rev)"
   ]
  },
  {
   "cell_type": "code",
   "execution_count": null,
   "metadata": {},
   "outputs": [
    {
     "data": {
      "text/html": [
       "<div>\n",
       "<table border=\"1\" class=\"dataframe\">\n",
       "  <thead>\n",
       "    <tr style=\"text-align: right;\">\n",
       "      <th></th>\n",
       "      <th>click_id</th>\n",
       "      <th>is_attributed</th>\n",
       "      <th>coeff</th>\n",
       "    </tr>\n",
       "  </thead>\n",
       "  <tbody>\n",
       "    <tr>\n",
       "      <th>0</th>\n",
       "      <td>0</td>\n",
       "      <td>None</td>\n",
       "      <td>-2.449491</td>\n",
       "    </tr>\n",
       "    <tr>\n",
       "      <th>1</th>\n",
       "      <td>1</td>\n",
       "      <td>None</td>\n",
       "      <td>-3.897545</td>\n",
       "    </tr>\n",
       "    <tr>\n",
       "      <th>2</th>\n",
       "      <td>2</td>\n",
       "      <td>None</td>\n",
       "      <td>-6.094313</td>\n",
       "    </tr>\n",
       "  </tbody>\n",
       "</table>\n",
       "</div>"
      ],
      "text/plain": [
       "   click_id is_attributed     coeff\n",
       "0         0          None -2.449491\n",
       "1         1          None -3.897545\n",
       "2         2          None -6.094313"
      ]
     },
     "metadata": {},
     "output_type": "display_data"
    },
    {
     "name": "stdout",
     "output_type": "stream",
     "text": [
      "CPU times: user 10.7 s, sys: 1.53 s, total: 12.2 s\n",
      "Wall time: 12.3 s\n"
     ]
    }
   ],
   "source": [
    "%%time\n",
    "coeff_A = 0.8\n",
    "coeff_B = 0.1\n",
    "coeff_C = 0.05\n",
    "coeff_D = 0.05\n",
    "vec_A = np.array(df_A.is_attributed.tolist())\n",
    "vec_B = np.array(df_B.is_attributed.tolist())\n",
    "vec_C = np.array(df_C.is_attributed.tolist())\n",
    "vec_D = np.array(df_D.is_attributed.tolist())\n",
    "vec = vec_A*coeff_A + vec_B*coeff_B +  vec_C*coeff_C + vec_D*coeff_D\n",
    "df_A.is_attributed = sigmoid(vec)\n",
    "display(df_A[:3])"
   ]
  },
  {
   "cell_type": "markdown",
   "metadata": {},
   "source": [
    "df = pd.DataFrame({\n",
    "    \"click_id\": df_B.click_id.values,\n",
    "    \"is_attributed\": ans\n",
    "})\n",
    "display(df[:3])\n",
    "print df.shape"
   ]
  },
  {
   "cell_type": "code",
   "execution_count": null,
   "metadata": {
    "collapsed": true
   },
   "outputs": [],
   "source": [
    "%%time\n",
    "filename = \"../g_{0}_{1}_{2}_{3}.csv\".format(coeff_A, coeff_B, coeff_C, coeff_D)\n",
    "df_A.to_csv(filename, index=False)"
   ]
  },
  {
   "cell_type": "code",
   "execution_count": 4,
   "metadata": {},
   "outputs": [
    {
     "name": "stdout",
     "output_type": "stream",
     "text": [
      "(3, 5)\n",
      "[[1 2 3 4 5]\n",
      " [1 2 3 4 5]\n",
      " [1 2 3 4 5]]\n"
     ]
    }
   ],
   "source": [
    "A = []\n",
    "A.append(np.array([1,2,3,4,5]))\n",
    "A.append(np.array([1,2,3,4,5]))\n",
    "A.append(np.array([1,2,3,4,5]))\n",
    "A = np.array(A)\n",
    "print A.shape\n",
    "print A\n",
    "C = np.zeros(3)\n",
    "C = [0.1, 0.4, 0.5]"
   ]
  },
  {
   "cell_type": "code",
   "execution_count": 8,
   "metadata": {},
   "outputs": [
    {
     "data": {
      "text/plain": [
       "1.0"
      ]
     },
     "execution_count": 8,
     "metadata": {},
     "output_type": "execute_result"
    }
   ],
   "source": [
    "np.dot(C, A)[0]"
   ]
  },
  {
   "cell_type": "code",
   "execution_count": 9,
   "metadata": {},
   "outputs": [
    {
     "ename": "NameError",
     "evalue": "name 'roc_auc_score' is not defined",
     "output_type": "error",
     "traceback": [
      "\u001b[0;31m---------------------------------------------------------------------------\u001b[0m",
      "\u001b[0;31mNameError\u001b[0m                                 Traceback (most recent call last)",
      "\u001b[0;32m<ipython-input-9-d75c0fa2b791>\u001b[0m in \u001b[0;36m<module>\u001b[0;34m()\u001b[0m\n\u001b[0;32m----> 1\u001b[0;31m \u001b[0mroc_auc_score\u001b[0m\u001b[0;34m\u001b[0m\u001b[0m\n\u001b[0m",
      "\u001b[0;31mNameError\u001b[0m: name 'roc_auc_score' is not defined"
     ]
    }
   ],
   "source": [
    "roc_auc_score"
   ]
  },
  {
   "cell_type": "code",
   "execution_count": 10,
   "metadata": {
    "collapsed": true
   },
   "outputs": [],
   "source": [
    "from sklearn.metrics import roc_auc_score"
   ]
  },
  {
   "cell_type": "code",
   "execution_count": 15,
   "metadata": {},
   "outputs": [
    {
     "data": {
      "text/plain": [
       "0.75"
      ]
     },
     "execution_count": 15,
     "metadata": {},
     "output_type": "execute_result"
    }
   ],
   "source": [
    "D = np.zeros(5)\n",
    "E = np.dot(C, A)\n",
    "D[3]=1\n",
    "E = E/E.sum()\n",
    "roc_auc_score(D, E)"
   ]
  },
  {
   "cell_type": "code",
   "execution_count": null,
   "metadata": {
    "collapsed": true
   },
   "outputs": [],
   "source": []
  }
 ],
 "metadata": {
  "kernelspec": {
   "display_name": "Python 2",
   "language": "python",
   "name": "python2"
  },
  "language_info": {
   "codemirror_mode": {
    "name": "ipython",
    "version": 2
   },
   "file_extension": ".py",
   "mimetype": "text/x-python",
   "name": "python",
   "nbconvert_exporter": "python",
   "pygments_lexer": "ipython2",
   "version": "2.7.13"
  }
 },
 "nbformat": 4,
 "nbformat_minor": 2
}
