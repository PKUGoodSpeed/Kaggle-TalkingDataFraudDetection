{
 "cells": [
  {
   "cell_type": "code",
   "execution_count": 1,
   "metadata": {
    "collapsed": true
   },
   "outputs": [],
   "source": [
    "import numpy as np\n",
    "import pandas as pd\n",
    "import os\n",
    "from IPython.display import display"
   ]
  },
  {
   "cell_type": "code",
   "execution_count": 2,
   "metadata": {
    "collapsed": true
   },
   "outputs": [],
   "source": [
    "models = ['lightGBM_1', 'lightGBM_2', 'lightGBM_3', 'randomFRST', 'randomFRST_2']"
   ]
  },
  {
   "cell_type": "code",
   "execution_count": 3,
   "metadata": {},
   "outputs": [
    {
     "name": "stdout",
     "output_type": "stream",
     "text": [
      "data\t\t input\t notebooks  simple_ave\tY_0.9_0.05_0.025_0.025.csv\r\n",
      "exponential_ave  models  output     utils\r\n"
     ]
    }
   ],
   "source": [
    "!ls .."
   ]
  },
  {
   "cell_type": "markdown",
   "metadata": {},
   "source": [
    "### The file selected either from exponential average or simple average"
   ]
  },
  {
   "cell_type": "code",
   "execution_count": 4,
   "metadata": {
    "collapsed": true
   },
   "outputs": [],
   "source": [
    "choice = [\n",
    "    \"simple_ave\",\n",
    "    \"exponential_ave\"\n",
    "]\n",
    "select = [0, 1, 0, 0, 0, 1]"
   ]
  },
  {
   "cell_type": "markdown",
   "metadata": {},
   "source": [
    "### Check closeness"
   ]
  },
  {
   "cell_type": "code",
   "execution_count": 5,
   "metadata": {},
   "outputs": [
    {
     "name": "stdout",
     "output_type": "stream",
     "text": [
      "0 simple_ave lightGBM_1 lightGBM_1_oof_0.975651944058.csv lightGBM_1_test.csv\n",
      "1 exponential_ave lightGBM_2 lightGBM_2_oof_0.976403856422.csv lightGBM_2_test.csv\n",
      "0 simple_ave lightGBM_3 lightGBM_3_oof_0.976315623129.csv lightGBM_3_test.csv\n",
      "0 simple_ave randomFRST randomFRST_oof_0.971250412087.csv randomFRST_2_test.csv\n",
      "0 simple_ave randomFRST_2 randomFRST_2_oof_0.972357143786.csv randomFRST_2_test.csv\n",
      "(5, 5000001)\n",
      "(5, 18790469)\n"
     ]
    }
   ],
   "source": [
    "oof_vecs = []\n",
    "test_vecs = []\n",
    "for i, m in zip(select, models):\n",
    "    ave_type = choice[i]\n",
    "    for f in os.listdir('../' + choice[i]):\n",
    "        if m in f and \"oof\" in f:\n",
    "            break\n",
    "    print i, ave_type, m, f,\n",
    "    df = pd.read_csv('../{0}/{1}'.format(ave_type, f))\n",
    "    oof_vecs.append(df['pred'].tolist())\n",
    "    for f in os.listdir('../' + choice[i]):\n",
    "        if m in f and \"test\" in f:\n",
    "            break\n",
    "    print f\n",
    "    df = pd.read_csv('../{0}/{1}'.format(ave_type, f))\n",
    "    test_vecs.append(df['is_attributed'].tolist())\n",
    "oof_vecs = np.array(oof_vecs)\n",
    "test_vecs = np.array(test_vecs)\n",
    "print oof_vecs.shape\n",
    "print test_vecs.shape"
   ]
  },
  {
   "cell_type": "markdown",
   "metadata": {},
   "source": [
    "###### Check oof closeness"
   ]
  },
  {
   "cell_type": "code",
   "execution_count": 6,
   "metadata": {},
   "outputs": [
    {
     "name": "stdout",
     "output_type": "stream",
     "text": [
      "Diff between\tlightGBM_1 \tand\tlightGBM_1 \tis:\t0\n",
      "Diff between\tlightGBM_1 \tand\tlightGBM_2 \tis:\t51116\n",
      "Diff between\tlightGBM_1 \tand\tlightGBM_3 \tis:\t39721\n",
      "Diff between\tlightGBM_1 \tand\trandomFRST \tis:\t30895\n",
      "Diff between\tlightGBM_1 \tand\trandomFRST_2 \tis:\t14714\n",
      "Diff between\tlightGBM_2 \tand\tlightGBM_1 \tis:\t51116\n",
      "Diff between\tlightGBM_2 \tand\tlightGBM_2 \tis:\t0\n",
      "Diff between\tlightGBM_2 \tand\tlightGBM_3 \tis:\t12833\n",
      "Diff between\tlightGBM_2 \tand\trandomFRST \tis:\t81541\n",
      "Diff between\tlightGBM_2 \tand\trandomFRST_2 \tis:\t55878\n",
      "Diff between\tlightGBM_3 \tand\tlightGBM_1 \tis:\t39721\n",
      "Diff between\tlightGBM_3 \tand\tlightGBM_2 \tis:\t12833\n",
      "Diff between\tlightGBM_3 \tand\tlightGBM_3 \tis:\t0\n",
      "Diff between\tlightGBM_3 \tand\trandomFRST \tis:\t69818\n",
      "Diff between\tlightGBM_3 \tand\trandomFRST_2 \tis:\t44495\n",
      "Diff between\trandomFRST \tand\tlightGBM_1 \tis:\t30895\n",
      "Diff between\trandomFRST \tand\tlightGBM_2 \tis:\t81541\n",
      "Diff between\trandomFRST \tand\tlightGBM_3 \tis:\t69818\n",
      "Diff between\trandomFRST \tand\trandomFRST \tis:\t0\n",
      "Diff between\trandomFRST \tand\trandomFRST_2 \tis:\t28293\n",
      "Diff between\trandomFRST_2 \tand\tlightGBM_1 \tis:\t14714\n",
      "Diff between\trandomFRST_2 \tand\tlightGBM_2 \tis:\t55878\n",
      "Diff between\trandomFRST_2 \tand\tlightGBM_3 \tis:\t44495\n",
      "Diff between\trandomFRST_2 \tand\trandomFRST \tis:\t28293\n",
      "Diff between\trandomFRST_2 \tand\trandomFRST_2 \tis:\t0\n"
     ]
    }
   ],
   "source": [
    "for m1, pred1 in zip(models, oof_vecs):\n",
    "    for m2, pred2 in zip(models, oof_vecs):\n",
    "        pred1 = (pred1 > 0.5)\n",
    "        pred2 = (pred2 > 0.5)\n",
    "        diff = (pred1 != pred2).sum()\n",
    "        print \"Diff between\\t\", m1, \"\\tand\\t\", m2, \"\\tis:\\t\", diff"
   ]
  },
  {
   "cell_type": "code",
   "execution_count": 7,
   "metadata": {},
   "outputs": [
    {
     "name": "stdout",
     "output_type": "stream",
     "text": [
      "Diff between\tlightGBM_1 \tand\tlightGBM_1 \tis:\t0\n",
      "Diff between\tlightGBM_1 \tand\tlightGBM_2 \tis:\t92731\n",
      "Diff between\tlightGBM_1 \tand\tlightGBM_3 \tis:\t133196\n",
      "Diff between\tlightGBM_1 \tand\trandomFRST \tis:\t182586\n",
      "Diff between\tlightGBM_1 \tand\trandomFRST_2 \tis:\t182586\n",
      "Diff between\tlightGBM_2 \tand\tlightGBM_1 \tis:\t92731\n",
      "Diff between\tlightGBM_2 \tand\tlightGBM_2 \tis:\t0\n",
      "Diff between\tlightGBM_2 \tand\tlightGBM_3 \tis:\t102901\n",
      "Diff between\tlightGBM_2 \tand\trandomFRST \tis:\t261933\n",
      "Diff between\tlightGBM_2 \tand\trandomFRST_2 \tis:\t261933\n",
      "Diff between\tlightGBM_3 \tand\tlightGBM_1 \tis:\t133196\n",
      "Diff between\tlightGBM_3 \tand\tlightGBM_2 \tis:\t102901\n",
      "Diff between\tlightGBM_3 \tand\tlightGBM_3 \tis:\t0\n",
      "Diff between\tlightGBM_3 \tand\trandomFRST \tis:\t216428\n",
      "Diff between\tlightGBM_3 \tand\trandomFRST_2 \tis:\t216428\n",
      "Diff between\trandomFRST \tand\tlightGBM_1 \tis:\t182586\n",
      "Diff between\trandomFRST \tand\tlightGBM_2 \tis:\t261933\n",
      "Diff between\trandomFRST \tand\tlightGBM_3 \tis:\t216428\n",
      "Diff between\trandomFRST \tand\trandomFRST \tis:\t0\n",
      "Diff between\trandomFRST \tand\trandomFRST_2 \tis:\t0\n",
      "Diff between\trandomFRST_2 \tand\tlightGBM_1 \tis:\t182586\n",
      "Diff between\trandomFRST_2 \tand\tlightGBM_2 \tis:\t261933\n",
      "Diff between\trandomFRST_2 \tand\tlightGBM_3 \tis:\t216428\n",
      "Diff between\trandomFRST_2 \tand\trandomFRST \tis:\t0\n",
      "Diff between\trandomFRST_2 \tand\trandomFRST_2 \tis:\t0\n"
     ]
    }
   ],
   "source": [
    "for m1, pred1 in zip(models, test_vecs):\n",
    "    for m2, pred2 in zip(models, test_vecs):\n",
    "        pred1 = (pred1 > 0.5)\n",
    "        pred2 = (pred2 > 0.5)\n",
    "        diff = (pred1 != pred2).sum()\n",
    "        print \"Diff between\\t\", m1, \"\\tand\\t\", m2, \"\\tis:\\t\", diff"
   ]
  },
  {
   "cell_type": "code",
   "execution_count": 8,
   "metadata": {},
   "outputs": [],
   "source": [
    "target = np.array(pd.read_csv('../exponential_ave/lightGBM_0_oof_0.975416070448.csv')['is_attributed'].tolist())\n",
    "from sklearn.metrics import roc_auc_score\n",
    "def gridSearch(vecs, reso=0.02):\n",
    "    assert len(vecs) == 5\n",
    "    coeff = np.zeros(5)\n",
    "    coeff[0] = 1.\n",
    "    score = roc_auc_score(target, np.dot(coeff, vecs))\n",
    "    for c1 in np.arange(0, 1., reso):\n",
    "        print c1, \": \"\n",
    "        for c2 in np.arange(0, 1.-c1, reso):\n",
    "            print c2,\n",
    "            for c3 in np.arange(0, 1.-c1-c2, reso):\n",
    "                for c4 in np.arange(0, 1.-c1-c2-c3, reso):\n",
    "                    c5 = 1.-c1-c2-c3-c4\n",
    "                    tmp_coeff = np.array([c1, c2, c3, c4, c5])\n",
    "                    tmp_score = roc_auc_score(target, np.dot(tmp_coeff, vecs))\n",
    "                    if tmp_score > score:\n",
    "                        coeff = tmp_coeff\n",
    "                        score = tmp_score\n",
    "        print \"   lalala\"\n",
    "    return coeff, score"
   ]
  },
  {
   "cell_type": "code",
   "execution_count": 9,
   "metadata": {},
   "outputs": [
    {
     "name": "stdout",
     "output_type": "stream",
     "text": [
      "21193\n"
     ]
    }
   ],
   "source": [
    "def getSets(reso=0.02):\n",
    "    ans = []\n",
    "    for c1 in np.arange(0, 1., reso):\n",
    "        for c2 in np.arange(0, 1.-c1, reso):\n",
    "            for c3 in np.arange(0, 1.-c1-c2, reso):\n",
    "                for c4 in np.arange(0, 1.-c1-c2-c3, reso):\n",
    "                    c5 = 1.-c1-c2-c3-c4\n",
    "                    ans.append(np.array([c1, c2, c3, c4, c5]))\n",
    "    return ans\n",
    "pick_set = getSets(reso=0.04)\n",
    "print len(pick_set)"
   ]
  },
  {
   "cell_type": "code",
   "execution_count": 10,
   "metadata": {
    "collapsed": true
   },
   "outputs": [],
   "source": [
    "def getScore(coeff):\n",
    "    return roc_auc_score(target, np.dot(coeff, oof_vecs))"
   ]
  },
  {
   "cell_type": "code",
   "execution_count": 11,
   "metadata": {
    "collapsed": true
   },
   "outputs": [],
   "source": [
    "import multiprocessing\n",
    "import multiprocessing.pool\n",
    "\n",
    "class NoDaemonProcess(multiprocessing.Process):\n",
    "    # make 'daemon' attribute always return False\n",
    "    def _get_daemon(self):\n",
    "        return False\n",
    "    def _set_daemon(self, value):\n",
    "        pass\n",
    "    daemon = property(_get_daemon, _set_daemon)\n",
    "class MyPool(multiprocessing.pool.Pool):\n",
    "    Process = NoDaemonProcess"
   ]
  },
  {
   "cell_type": "code",
   "execution_count": 12,
   "metadata": {},
   "outputs": [
    {
     "name": "stdout",
     "output_type": "stream",
     "text": [
      "21193\n",
      "[0.97235714378596305, 0.97239561411955666, 0.97243043771887172, 0.97246256373965201, 0.97249240323030617, 0.97252045450684454, 0.9725467369102625, 0.9725712634953303, 0.97259381297404768, 0.97261435053905365]\n"
     ]
    }
   ],
   "source": [
    "pool = MyPool(8)\n",
    "res = pool.map(getScore, pick_set)\n",
    "pool.close()\n",
    "pool.join()\n",
    "print len(res)\n",
    "print res[:10]"
   ]
  },
  {
   "cell_type": "code",
   "execution_count": 13,
   "metadata": {},
   "outputs": [
    {
     "name": "stdout",
     "output_type": "stream",
     "text": [
      "[  0.00000000e+00   6.00000000e-01   3.60000000e-01   4.00000000e-02\n",
      "   3.46944695e-17]\n",
      "Score =  0.976489467297\n"
     ]
    }
   ],
   "source": [
    "Coe = pick_set[0]\n",
    "Sco = res[0]\n",
    "for c, s in zip(pick_set, res):\n",
    "    if s > Sco:\n",
    "        Sco = s\n",
    "        Coe = c\n",
    "print Coe\n",
    "print \"Score = \", Sco"
   ]
  },
  {
   "cell_type": "code",
   "execution_count": 14,
   "metadata": {},
   "outputs": [
    {
     "name": "stdout",
     "output_type": "stream",
     "text": [
      "[ 0.06188014  0.06234725  0.01060787  0.02173568  0.01030634  0.04351224\n",
      "  0.01586083  0.09864475  0.07073445  0.00373207]\n"
     ]
    }
   ],
   "source": [
    "test_pred = np.dot(Coe, test_vecs)\n",
    "print test_pred[:10]"
   ]
  },
  {
   "cell_type": "code",
   "execution_count": 15,
   "metadata": {},
   "outputs": [
    {
     "data": {
      "text/html": [
       "<div>\n",
       "<table border=\"1\" class=\"dataframe\">\n",
       "  <thead>\n",
       "    <tr style=\"text-align: right;\">\n",
       "      <th></th>\n",
       "      <th>click_id</th>\n",
       "      <th>pred</th>\n",
       "    </tr>\n",
       "  </thead>\n",
       "  <tbody>\n",
       "    <tr>\n",
       "      <th>0</th>\n",
       "      <td>0.0</td>\n",
       "      <td>0.037463</td>\n",
       "    </tr>\n",
       "    <tr>\n",
       "      <th>1</th>\n",
       "      <td>1.0</td>\n",
       "      <td>0.058088</td>\n",
       "    </tr>\n",
       "    <tr>\n",
       "      <th>2</th>\n",
       "      <td>2.0</td>\n",
       "      <td>0.013264</td>\n",
       "    </tr>\n",
       "  </tbody>\n",
       "</table>\n",
       "</div>"
      ],
      "text/plain": [
       "   click_id      pred\n",
       "0       0.0  0.037463\n",
       "1       1.0  0.058088\n",
       "2       2.0  0.013264"
      ]
     },
     "metadata": {},
     "output_type": "display_data"
    }
   ],
   "source": [
    "df = pd.read_csv('../output/lightGBM_0/fold_1/test_pred.csv')\n",
    "display(df[:3])"
   ]
  },
  {
   "cell_type": "code",
   "execution_count": 17,
   "metadata": {},
   "outputs": [
    {
     "data": {
      "text/html": [
       "<div>\n",
       "<table border=\"1\" class=\"dataframe\">\n",
       "  <thead>\n",
       "    <tr style=\"text-align: right;\">\n",
       "      <th></th>\n",
       "      <th>click_id</th>\n",
       "      <th>is_attributed</th>\n",
       "    </tr>\n",
       "  </thead>\n",
       "  <tbody>\n",
       "    <tr>\n",
       "      <th>0</th>\n",
       "      <td>0</td>\n",
       "      <td>0.061880</td>\n",
       "    </tr>\n",
       "    <tr>\n",
       "      <th>1</th>\n",
       "      <td>1</td>\n",
       "      <td>0.062347</td>\n",
       "    </tr>\n",
       "    <tr>\n",
       "      <th>2</th>\n",
       "      <td>2</td>\n",
       "      <td>0.010608</td>\n",
       "    </tr>\n",
       "  </tbody>\n",
       "</table>\n",
       "</div>"
      ],
      "text/plain": [
       "   click_id  is_attributed\n",
       "0         0       0.061880\n",
       "1         1       0.062347\n",
       "2         2       0.010608"
      ]
     },
     "metadata": {},
     "output_type": "display_data"
    }
   ],
   "source": [
    "df['is_attributed'] = test_pred\n",
    "df['click_id'] = df['click_id'].astype(int)\n",
    "df = df[['click_id', 'is_attributed']]\n",
    "display(df[:3])"
   ]
  },
  {
   "cell_type": "code",
   "execution_count": 18,
   "metadata": {
    "collapsed": true
   },
   "outputs": [],
   "source": [
    "df.to_csv('../grid.csv', index=False)"
   ]
  },
  {
   "cell_type": "code",
   "execution_count": null,
   "metadata": {
    "collapsed": true
   },
   "outputs": [],
   "source": []
  }
 ],
 "metadata": {
  "kernelspec": {
   "display_name": "Python 2",
   "language": "python",
   "name": "python2"
  },
  "language_info": {
   "codemirror_mode": {
    "name": "ipython",
    "version": 2
   },
   "file_extension": ".py",
   "mimetype": "text/x-python",
   "name": "python",
   "nbconvert_exporter": "python",
   "pygments_lexer": "ipython2",
   "version": "2.7.13"
  }
 },
 "nbformat": 4,
 "nbformat_minor": 2
}
