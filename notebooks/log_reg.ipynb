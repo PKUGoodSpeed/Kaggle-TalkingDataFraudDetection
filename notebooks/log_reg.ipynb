{
 "cells": [
  {
   "cell_type": "code",
   "execution_count": 2,
   "metadata": {},
   "outputs": [],
   "source": [
    "import pandas as pd\n",
    "import numpy as np\n",
    "import warnings\n",
    "warnings.filterwarnings('ignore')\n",
    "import os\n",
    "import gc\n",
    "from IPython.display import display"
   ]
  },
  {
   "cell_type": "code",
   "execution_count": 3,
   "metadata": {},
   "outputs": [
    {
     "name": "stdout",
     "output_type": "stream",
     "text": [
      "initial_try  lightGBM_2  logistic  neuralNetwork  randomFRST  randomFRST_2\r\n"
     ]
    }
   ],
   "source": [
    "!ls ../output/"
   ]
  },
  {
   "cell_type": "code",
   "execution_count": 4,
   "metadata": {},
   "outputs": [],
   "source": [
    "models = [\"initial_try\", \"lightGBM_2\", \"randomFRST\"]"
   ]
  },
  {
   "cell_type": "code",
   "execution_count": 5,
   "metadata": {},
   "outputs": [],
   "source": [
    "y_train = pd.read_csv('../output/initial_try/fold_1/oof_pred.csv')['is_attributed'].tolist()\n",
    "test_id = pd.read_csv('../output/initial_try/fold_1/test_pred.csv')['click_id'].tolist()"
   ]
  },
  {
   "cell_type": "code",
   "execution_count": 6,
   "metadata": {},
   "outputs": [
    {
     "name": "stdout",
     "output_type": "stream",
     "text": [
      "initial_try\n",
      "1 : oof,  test;  Done!  2 : oof,  test;  Done!  3 : oof,  test;  Done!  4 : oof,  test;  Done!  5 : oof,  test;  Done!  6 : oof,  test;  Done!  7 : oof,  test;  Done!  8 : oof,  test;  Done!  9 : oof,  test;  Done!  \n",
      "Finish loading initial_try inputs\n",
      "lightGBM_2\n",
      "1 : oof,  test;  Done!  2 : oof,  test;  Done!  3 : oof,  test;  Done!  4 : oof,  test;  Done!  5 : oof,  test;  Done!  6 : oof,  test;  Done!  7 : oof,  test;  Done!  8 : oof,  test;  Done!  9 : oof,  test;  Done!  \n",
      "Finish loading lightGBM_2 inputs\n",
      "randomFRST\n",
      "1 : oof,  test;  Done!  2 : oof,  test;  Done!  3 : oof,  test;  Done!  4 : oof,  test;  Done!  5 : oof,  test;  Done!  6 : oof,  test;  Done!  7 : oof,  test;  Done!  8 : oof,  test;  Done!  9 : oof,  test;  Done!  \n",
      "Finish loading randomFRST inputs\n",
      "(5000001, 28) (18790469, 28)\n"
     ]
    },
    {
     "data": {
      "text/html": [
       "<div>\n",
       "<table border=\"1\" class=\"dataframe\">\n",
       "  <thead>\n",
       "    <tr style=\"text-align: right;\">\n",
       "      <th></th>\n",
       "      <th>target</th>\n",
       "      <th>feat_initial_try_X1</th>\n",
       "      <th>feat_initial_try_X2</th>\n",
       "      <th>feat_initial_try_X3</th>\n",
       "      <th>feat_initial_try_X4</th>\n",
       "      <th>feat_initial_try_X5</th>\n",
       "      <th>feat_initial_try_X6</th>\n",
       "      <th>feat_initial_try_X7</th>\n",
       "      <th>feat_initial_try_X8</th>\n",
       "      <th>feat_initial_try_X9</th>\n",
       "      <th>...</th>\n",
       "      <th>feat_lightGBM_2_X9</th>\n",
       "      <th>feat_randomFRST_X1</th>\n",
       "      <th>feat_randomFRST_X2</th>\n",
       "      <th>feat_randomFRST_X3</th>\n",
       "      <th>feat_randomFRST_X4</th>\n",
       "      <th>feat_randomFRST_X5</th>\n",
       "      <th>feat_randomFRST_X6</th>\n",
       "      <th>feat_randomFRST_X7</th>\n",
       "      <th>feat_randomFRST_X8</th>\n",
       "      <th>feat_randomFRST_X9</th>\n",
       "    </tr>\n",
       "  </thead>\n",
       "  <tbody>\n",
       "    <tr>\n",
       "      <th>0</th>\n",
       "      <td>0.0</td>\n",
       "      <td>0.023738</td>\n",
       "      <td>0.027374</td>\n",
       "      <td>0.011467</td>\n",
       "      <td>0.023225</td>\n",
       "      <td>0.020499</td>\n",
       "      <td>0.022529</td>\n",
       "      <td>0.037848</td>\n",
       "      <td>0.035517</td>\n",
       "      <td>0.027216</td>\n",
       "      <td>...</td>\n",
       "      <td>0.111883</td>\n",
       "      <td>0.013690</td>\n",
       "      <td>0.008440</td>\n",
       "      <td>0.008558</td>\n",
       "      <td>0.009429</td>\n",
       "      <td>0.013345</td>\n",
       "      <td>0.009855</td>\n",
       "      <td>0.017023</td>\n",
       "      <td>0.006199</td>\n",
       "      <td>0.013055</td>\n",
       "    </tr>\n",
       "    <tr>\n",
       "      <th>1</th>\n",
       "      <td>0.0</td>\n",
       "      <td>0.024519</td>\n",
       "      <td>0.043157</td>\n",
       "      <td>0.027079</td>\n",
       "      <td>0.022278</td>\n",
       "      <td>0.019371</td>\n",
       "      <td>0.017669</td>\n",
       "      <td>0.025839</td>\n",
       "      <td>0.020818</td>\n",
       "      <td>0.016402</td>\n",
       "      <td>...</td>\n",
       "      <td>0.034985</td>\n",
       "      <td>0.005581</td>\n",
       "      <td>0.005303</td>\n",
       "      <td>0.003486</td>\n",
       "      <td>0.002732</td>\n",
       "      <td>0.003061</td>\n",
       "      <td>0.003296</td>\n",
       "      <td>0.002895</td>\n",
       "      <td>0.003512</td>\n",
       "      <td>0.002824</td>\n",
       "    </tr>\n",
       "    <tr>\n",
       "      <th>2</th>\n",
       "      <td>0.0</td>\n",
       "      <td>0.002559</td>\n",
       "      <td>0.001893</td>\n",
       "      <td>0.001368</td>\n",
       "      <td>0.003463</td>\n",
       "      <td>0.002854</td>\n",
       "      <td>0.003445</td>\n",
       "      <td>0.001508</td>\n",
       "      <td>0.001887</td>\n",
       "      <td>0.003936</td>\n",
       "      <td>...</td>\n",
       "      <td>0.002772</td>\n",
       "      <td>0.001177</td>\n",
       "      <td>0.005339</td>\n",
       "      <td>0.001263</td>\n",
       "      <td>0.001353</td>\n",
       "      <td>0.001931</td>\n",
       "      <td>0.002081</td>\n",
       "      <td>0.001279</td>\n",
       "      <td>0.001349</td>\n",
       "      <td>0.001369</td>\n",
       "    </tr>\n",
       "  </tbody>\n",
       "</table>\n",
       "<p>3 rows × 28 columns</p>\n",
       "</div>"
      ],
      "text/plain": [
       "   target  feat_initial_try_X1  feat_initial_try_X2  feat_initial_try_X3  \\\n",
       "0     0.0             0.023738             0.027374             0.011467   \n",
       "1     0.0             0.024519             0.043157             0.027079   \n",
       "2     0.0             0.002559             0.001893             0.001368   \n",
       "\n",
       "   feat_initial_try_X4  feat_initial_try_X5  feat_initial_try_X6  \\\n",
       "0             0.023225             0.020499             0.022529   \n",
       "1             0.022278             0.019371             0.017669   \n",
       "2             0.003463             0.002854             0.003445   \n",
       "\n",
       "   feat_initial_try_X7  feat_initial_try_X8  feat_initial_try_X9  \\\n",
       "0             0.037848             0.035517             0.027216   \n",
       "1             0.025839             0.020818             0.016402   \n",
       "2             0.001508             0.001887             0.003936   \n",
       "\n",
       "          ...          feat_lightGBM_2_X9  feat_randomFRST_X1  \\\n",
       "0         ...                    0.111883            0.013690   \n",
       "1         ...                    0.034985            0.005581   \n",
       "2         ...                    0.002772            0.001177   \n",
       "\n",
       "   feat_randomFRST_X2  feat_randomFRST_X3  feat_randomFRST_X4  \\\n",
       "0            0.008440            0.008558            0.009429   \n",
       "1            0.005303            0.003486            0.002732   \n",
       "2            0.005339            0.001263            0.001353   \n",
       "\n",
       "   feat_randomFRST_X5  feat_randomFRST_X6  feat_randomFRST_X7  \\\n",
       "0            0.013345            0.009855            0.017023   \n",
       "1            0.003061            0.003296            0.002895   \n",
       "2            0.001931            0.002081            0.001279   \n",
       "\n",
       "   feat_randomFRST_X8  feat_randomFRST_X9  \n",
       "0            0.006199            0.013055  \n",
       "1            0.003512            0.002824  \n",
       "2            0.001349            0.001369  \n",
       "\n",
       "[3 rows x 28 columns]"
      ]
     },
     "metadata": {},
     "output_type": "display_data"
    },
    {
     "data": {
      "text/html": [
       "<div>\n",
       "<table border=\"1\" class=\"dataframe\">\n",
       "  <thead>\n",
       "    <tr style=\"text-align: right;\">\n",
       "      <th></th>\n",
       "      <th>click_id</th>\n",
       "      <th>feat_initial_try_X1</th>\n",
       "      <th>feat_initial_try_X2</th>\n",
       "      <th>feat_initial_try_X3</th>\n",
       "      <th>feat_initial_try_X4</th>\n",
       "      <th>feat_initial_try_X5</th>\n",
       "      <th>feat_initial_try_X6</th>\n",
       "      <th>feat_initial_try_X7</th>\n",
       "      <th>feat_initial_try_X8</th>\n",
       "      <th>feat_initial_try_X9</th>\n",
       "      <th>...</th>\n",
       "      <th>feat_lightGBM_2_X9</th>\n",
       "      <th>feat_randomFRST_X1</th>\n",
       "      <th>feat_randomFRST_X2</th>\n",
       "      <th>feat_randomFRST_X3</th>\n",
       "      <th>feat_randomFRST_X4</th>\n",
       "      <th>feat_randomFRST_X5</th>\n",
       "      <th>feat_randomFRST_X6</th>\n",
       "      <th>feat_randomFRST_X7</th>\n",
       "      <th>feat_randomFRST_X8</th>\n",
       "      <th>feat_randomFRST_X9</th>\n",
       "    </tr>\n",
       "  </thead>\n",
       "  <tbody>\n",
       "    <tr>\n",
       "      <th>0</th>\n",
       "      <td>0.0</td>\n",
       "      <td>0.037463</td>\n",
       "      <td>0.034800</td>\n",
       "      <td>0.053320</td>\n",
       "      <td>0.039315</td>\n",
       "      <td>0.037315</td>\n",
       "      <td>0.046227</td>\n",
       "      <td>0.031016</td>\n",
       "      <td>0.034681</td>\n",
       "      <td>0.044822</td>\n",
       "      <td>...</td>\n",
       "      <td>0.070584</td>\n",
       "      <td>0.011034</td>\n",
       "      <td>0.025085</td>\n",
       "      <td>0.024071</td>\n",
       "      <td>0.015740</td>\n",
       "      <td>0.026954</td>\n",
       "      <td>0.008335</td>\n",
       "      <td>0.010908</td>\n",
       "      <td>0.011977</td>\n",
       "      <td>0.007260</td>\n",
       "    </tr>\n",
       "    <tr>\n",
       "      <th>1</th>\n",
       "      <td>1.0</td>\n",
       "      <td>0.058088</td>\n",
       "      <td>0.074953</td>\n",
       "      <td>0.089662</td>\n",
       "      <td>0.041412</td>\n",
       "      <td>0.081280</td>\n",
       "      <td>0.056204</td>\n",
       "      <td>0.064504</td>\n",
       "      <td>0.066296</td>\n",
       "      <td>0.049042</td>\n",
       "      <td>...</td>\n",
       "      <td>0.039385</td>\n",
       "      <td>0.009582</td>\n",
       "      <td>0.032588</td>\n",
       "      <td>0.011288</td>\n",
       "      <td>0.036506</td>\n",
       "      <td>0.012346</td>\n",
       "      <td>0.013189</td>\n",
       "      <td>0.018858</td>\n",
       "      <td>0.031535</td>\n",
       "      <td>0.009069</td>\n",
       "    </tr>\n",
       "    <tr>\n",
       "      <th>2</th>\n",
       "      <td>2.0</td>\n",
       "      <td>0.013264</td>\n",
       "      <td>0.015556</td>\n",
       "      <td>0.016250</td>\n",
       "      <td>0.022556</td>\n",
       "      <td>0.016581</td>\n",
       "      <td>0.017583</td>\n",
       "      <td>0.004667</td>\n",
       "      <td>0.019435</td>\n",
       "      <td>0.014614</td>\n",
       "      <td>...</td>\n",
       "      <td>0.014471</td>\n",
       "      <td>0.044305</td>\n",
       "      <td>0.005774</td>\n",
       "      <td>0.004756</td>\n",
       "      <td>0.006004</td>\n",
       "      <td>0.007036</td>\n",
       "      <td>0.005367</td>\n",
       "      <td>0.004632</td>\n",
       "      <td>0.002542</td>\n",
       "      <td>0.010263</td>\n",
       "    </tr>\n",
       "  </tbody>\n",
       "</table>\n",
       "<p>3 rows × 28 columns</p>\n",
       "</div>"
      ],
      "text/plain": [
       "   click_id  feat_initial_try_X1  feat_initial_try_X2  feat_initial_try_X3  \\\n",
       "0       0.0             0.037463             0.034800             0.053320   \n",
       "1       1.0             0.058088             0.074953             0.089662   \n",
       "2       2.0             0.013264             0.015556             0.016250   \n",
       "\n",
       "   feat_initial_try_X4  feat_initial_try_X5  feat_initial_try_X6  \\\n",
       "0             0.039315             0.037315             0.046227   \n",
       "1             0.041412             0.081280             0.056204   \n",
       "2             0.022556             0.016581             0.017583   \n",
       "\n",
       "   feat_initial_try_X7  feat_initial_try_X8  feat_initial_try_X9  \\\n",
       "0             0.031016             0.034681             0.044822   \n",
       "1             0.064504             0.066296             0.049042   \n",
       "2             0.004667             0.019435             0.014614   \n",
       "\n",
       "          ...          feat_lightGBM_2_X9  feat_randomFRST_X1  \\\n",
       "0         ...                    0.070584            0.011034   \n",
       "1         ...                    0.039385            0.009582   \n",
       "2         ...                    0.014471            0.044305   \n",
       "\n",
       "   feat_randomFRST_X2  feat_randomFRST_X3  feat_randomFRST_X4  \\\n",
       "0            0.025085            0.024071            0.015740   \n",
       "1            0.032588            0.011288            0.036506   \n",
       "2            0.005774            0.004756            0.006004   \n",
       "\n",
       "   feat_randomFRST_X5  feat_randomFRST_X6  feat_randomFRST_X7  \\\n",
       "0            0.026954            0.008335            0.010908   \n",
       "1            0.012346            0.013189            0.018858   \n",
       "2            0.007036            0.005367            0.004632   \n",
       "\n",
       "   feat_randomFRST_X8  feat_randomFRST_X9  \n",
       "0            0.011977            0.007260  \n",
       "1            0.031535            0.009069  \n",
       "2            0.002542            0.010263  \n",
       "\n",
       "[3 rows x 28 columns]"
      ]
     },
     "metadata": {},
     "output_type": "display_data"
    },
    {
     "name": "stdout",
     "output_type": "stream",
     "text": [
      "CPU times: user 5min 47s, sys: 25.5 s, total: 6min 13s\n",
      "Wall time: 6min 13s\n"
     ]
    }
   ],
   "source": [
    "%%time\n",
    "train_df = pd.DataFrame({\n",
    "    'target': y_train\n",
    "})\n",
    "test_df = pd.DataFrame({\n",
    "    'click_id': test_id\n",
    "})\n",
    "predictors = []\n",
    "for m in models:\n",
    "    print m\n",
    "    for i in range(1, 10):\n",
    "        tag = 'feat_' + m + '_X' + str(i)\n",
    "        predictors.append(tag)\n",
    "        print i, \": oof, \",\n",
    "        df = pd.read_csv('../output/{0}/fold_{1}/oof_pred.csv'.format(m, str(i)))\n",
    "        assert (np.array(df.is_attributed.tolist()) != y_train).sum() < 0.5\n",
    "        train_df[tag] = df['pred'].tolist()\n",
    "        print \"test; \",\n",
    "        df = pd.read_csv('../output/{0}/fold_{1}/test_pred.csv'.format(m, str(i)))\n",
    "        test_df[tag] = df['pred'].tolist()\n",
    "        print \"Done! \",\n",
    "    print \"\\nFinish loading \" + m + \" inputs\"\n",
    "print train_df.shape, test_df.shape\n",
    "display(train_df[:3])\n",
    "display(test_df[:3])"
   ]
  },
  {
   "cell_type": "code",
   "execution_count": 7,
   "metadata": {},
   "outputs": [],
   "source": [
    "from sklearn.linear_model import LogisticRegression"
   ]
  },
  {
   "cell_type": "code",
   "execution_count": 8,
   "metadata": {},
   "outputs": [
    {
     "data": {
      "text/plain": [
       "LogisticRegression(C=1.0, class_weight={0: 1, 1: 160}, dual=False,\n",
       "          fit_intercept=True, intercept_scaling=1, max_iter=100,\n",
       "          multi_class='ovr', n_jobs=1, penalty='l2', random_state=17,\n",
       "          solver='liblinear', tol=0.0001, verbose=0, warm_start=False)"
      ]
     },
     "execution_count": 8,
     "metadata": {},
     "output_type": "execute_result"
    }
   ],
   "source": [
    "lg = LogisticRegression(C=1., random_state=17, class_weight={0:1, 1:160})\n",
    "lg.fit(train_df[predictors], train_df['target'])"
   ]
  },
  {
   "cell_type": "code",
   "execution_count": 9,
   "metadata": {},
   "outputs": [
    {
     "data": {
      "text/html": [
       "<div>\n",
       "<table border=\"1\" class=\"dataframe\">\n",
       "  <thead>\n",
       "    <tr style=\"text-align: right;\">\n",
       "      <th></th>\n",
       "      <th>click_id</th>\n",
       "      <th>is_attributed</th>\n",
       "    </tr>\n",
       "  </thead>\n",
       "  <tbody>\n",
       "    <tr>\n",
       "      <th>0</th>\n",
       "      <td>0</td>\n",
       "      <td>0.035589</td>\n",
       "    </tr>\n",
       "    <tr>\n",
       "      <th>1</th>\n",
       "      <td>1</td>\n",
       "      <td>0.034191</td>\n",
       "    </tr>\n",
       "    <tr>\n",
       "      <th>2</th>\n",
       "      <td>2</td>\n",
       "      <td>0.023277</td>\n",
       "    </tr>\n",
       "  </tbody>\n",
       "</table>\n",
       "</div>"
      ],
      "text/plain": [
       "   click_id  is_attributed\n",
       "0         0       0.035589\n",
       "1         1       0.034191\n",
       "2         2       0.023277"
      ]
     },
     "metadata": {},
     "output_type": "display_data"
    }
   ],
   "source": [
    "log_df = pd.DataFrame({\n",
    "    'click_id': test_df['click_id'].astype(int),\n",
    "    'is_attributed': lg.predict_proba(test_df[predictors])[:, 1]\n",
    "})\n",
    "log_df = log_df[['click_id', 'is_attributed']]\n",
    "display(log_df[:3])\n",
    "log_df.to_csv('../logist_3_comb.csv', index=False)"
   ]
  },
  {
   "cell_type": "code",
   "execution_count": 10,
   "metadata": {
    "collapsed": true
   },
   "outputs": [],
   "source": [
    "from sklearn.naive_bayes import MultinomialNB"
   ]
  },
  {
   "cell_type": "code",
   "execution_count": 11,
   "metadata": {},
   "outputs": [
    {
     "data": {
      "text/plain": [
       "MultinomialNB(alpha=1.0, class_prior=None, fit_prior=True)"
      ]
     },
     "execution_count": 11,
     "metadata": {},
     "output_type": "execute_result"
    }
   ],
   "source": [
    "nb = MultinomialNB()\n",
    "nb.fit(train_df[predictors], train_df['target'])"
   ]
  },
  {
   "cell_type": "code",
   "execution_count": 12,
   "metadata": {},
   "outputs": [
    {
     "data": {
      "text/html": [
       "<div>\n",
       "<table border=\"1\" class=\"dataframe\">\n",
       "  <thead>\n",
       "    <tr style=\"text-align: right;\">\n",
       "      <th></th>\n",
       "      <th>click_id</th>\n",
       "      <th>is_attributed</th>\n",
       "    </tr>\n",
       "  </thead>\n",
       "  <tbody>\n",
       "    <tr>\n",
       "      <th>0</th>\n",
       "      <td>0</td>\n",
       "      <td>0.002245</td>\n",
       "    </tr>\n",
       "    <tr>\n",
       "      <th>1</th>\n",
       "      <td>1</td>\n",
       "      <td>0.002348</td>\n",
       "    </tr>\n",
       "    <tr>\n",
       "      <th>2</th>\n",
       "      <td>2</td>\n",
       "      <td>0.002637</td>\n",
       "    </tr>\n",
       "  </tbody>\n",
       "</table>\n",
       "</div>"
      ],
      "text/plain": [
       "   click_id  is_attributed\n",
       "0         0       0.002245\n",
       "1         1       0.002348\n",
       "2         2       0.002637"
      ]
     },
     "metadata": {},
     "output_type": "display_data"
    }
   ],
   "source": [
    "nb_df = pd.DataFrame({\n",
    "    'click_id': test_df['click_id'].astype(int),\n",
    "    'is_attributed': nb.predict_proba(test_df[predictors])[:, 1]\n",
    "})\n",
    "nb_df = nb_df[['click_id', 'is_attributed']]\n",
    "display(nb_df[:3])\n",
    "nb_df.to_csv('../nb_3_comb.csv', index=False)"
   ]
  },
  {
   "cell_type": "markdown",
   "metadata": {},
   "source": [
    "from sklearn.neighbors import KNeighborsClassifier"
   ]
  },
  {
   "cell_type": "markdown",
   "metadata": {},
   "source": [
    "knn = KNeighborsClassifier(n_neighbors=6, weights='distance')\n",
    "knn.fit(train_df[predictors], train_df['target'])"
   ]
  },
  {
   "cell_type": "markdown",
   "metadata": {},
   "source": [
    "knn_df = pd.DataFrame({\n",
    "    'click_id': test_df['click_id'].astype(int),\n",
    "    'is_attributed': knn.predict_proba(test_df[predictors])[:, 1]\n",
    "})\n",
    "knn_df = knn_df[['click_id', 'is_attributed']]\n",
    "display(knn_df[:3])\n",
    "knn_df.to_csv('../knn_3_comb.csv', index=False)"
   ]
  },
  {
   "cell_type": "code",
   "execution_count": 13,
   "metadata": {
    "collapsed": true
   },
   "outputs": [],
   "source": [
    "from sklearn.ensemble import RandomForestClassifier"
   ]
  },
  {
   "cell_type": "code",
   "execution_count": 14,
   "metadata": {},
   "outputs": [
    {
     "name": "stdout",
     "output_type": "stream",
     "text": [
      "building tree 1 of 17\n"
     ]
    },
    {
     "name": "stderr",
     "output_type": "stream",
     "text": [
      "[Parallel(n_jobs=1)]: Done   1 out of   1 | elapsed:   39.3s remaining:    0.0s\n"
     ]
    },
    {
     "name": "stdout",
     "output_type": "stream",
     "text": [
      "building tree 2 of 17\n",
      "building tree 3 of 17\n",
      "building tree 4 of 17\n",
      "building tree 5 of 17\n",
      "building tree 6 of 17\n",
      "building tree 7 of 17\n",
      "building tree 8 of 17\n",
      "building tree 9 of 17\n",
      "building tree 10 of 17\n",
      "building tree 11 of 17\n",
      "building tree 12 of 17\n",
      "building tree 13 of 17\n",
      "building tree 14 of 17\n",
      "building tree 15 of 17\n",
      "building tree 16 of 17\n",
      "building tree 17 of 17\n"
     ]
    },
    {
     "name": "stderr",
     "output_type": "stream",
     "text": [
      "[Parallel(n_jobs=1)]: Done  17 out of  17 | elapsed: 10.9min finished\n"
     ]
    },
    {
     "data": {
      "text/plain": [
       "RandomForestClassifier(bootstrap=True, class_weight={0: 1, 1: 160},\n",
       "            criterion='gini', max_depth=17, max_features='auto',\n",
       "            max_leaf_nodes=None, min_impurity_decrease=0.0,\n",
       "            min_impurity_split=None, min_samples_leaf=1,\n",
       "            min_samples_split=2, min_weight_fraction_leaf=0.0,\n",
       "            n_estimators=17, n_jobs=1, oob_score=True, random_state=17,\n",
       "            verbose=2, warm_start=False)"
      ]
     },
     "execution_count": 14,
     "metadata": {},
     "output_type": "execute_result"
    }
   ],
   "source": [
    "rf = RandomForestClassifier(n_estimators=17, max_depth=17, random_state=17,verbose=2, oob_score=True, class_weight={0:1, 1:160})\n",
    "rf.fit(train_df[predictors], train_df['target'])"
   ]
  },
  {
   "cell_type": "code",
   "execution_count": 15,
   "metadata": {},
   "outputs": [
    {
     "name": "stderr",
     "output_type": "stream",
     "text": [
      "[Parallel(n_jobs=1)]: Done   1 out of   1 | elapsed:    3.3s remaining:    0.0s\n",
      "[Parallel(n_jobs=1)]: Done  17 out of  17 | elapsed:   52.1s finished\n"
     ]
    },
    {
     "data": {
      "text/html": [
       "<div>\n",
       "<table border=\"1\" class=\"dataframe\">\n",
       "  <thead>\n",
       "    <tr style=\"text-align: right;\">\n",
       "      <th></th>\n",
       "      <th>click_id</th>\n",
       "      <th>is_attributed</th>\n",
       "    </tr>\n",
       "  </thead>\n",
       "  <tbody>\n",
       "    <tr>\n",
       "      <th>0</th>\n",
       "      <td>0</td>\n",
       "      <td>0.023066</td>\n",
       "    </tr>\n",
       "    <tr>\n",
       "      <th>1</th>\n",
       "      <td>1</td>\n",
       "      <td>0.041395</td>\n",
       "    </tr>\n",
       "    <tr>\n",
       "      <th>2</th>\n",
       "      <td>2</td>\n",
       "      <td>0.021965</td>\n",
       "    </tr>\n",
       "  </tbody>\n",
       "</table>\n",
       "</div>"
      ],
      "text/plain": [
       "   click_id  is_attributed\n",
       "0         0       0.023066\n",
       "1         1       0.041395\n",
       "2         2       0.021965"
      ]
     },
     "metadata": {},
     "output_type": "display_data"
    }
   ],
   "source": [
    "rf_df = pd.DataFrame({\n",
    "    'click_id': test_df['click_id'].astype(int),\n",
    "    'is_attributed': rf.predict_proba(test_df[predictors])[:, 1]\n",
    "})\n",
    "rf_df = rf_df[['click_id', 'is_attributed']]\n",
    "display(rf_df[:3])\n",
    "rf_df.to_csv('../rf_3_comb.csv', index=False)"
   ]
  }
 ],
 "metadata": {
  "kernelspec": {
   "display_name": "Python 2",
   "language": "python",
   "name": "python2"
  },
  "language_info": {
   "codemirror_mode": {
    "name": "ipython",
    "version": 2
   },
   "file_extension": ".py",
   "mimetype": "text/x-python",
   "name": "python",
   "nbconvert_exporter": "python",
   "pygments_lexer": "ipython2",
   "version": "2.7.13"
  }
 },
 "nbformat": 4,
 "nbformat_minor": 2
}
