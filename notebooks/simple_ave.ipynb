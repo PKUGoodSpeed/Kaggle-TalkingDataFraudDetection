{
 "cells": [
  {
   "cell_type": "code",
   "execution_count": 21,
   "metadata": {
    "collapsed": true
   },
   "outputs": [],
   "source": [
    "import os\n",
    "import io\n",
    "import gc\n",
    "import numpy as np\n",
    "import pandas as pd\n",
    "from sklearn.naive_bayes import MultinomialNB\n",
    "pd.set_option('display.max_rows', 500)\n",
    "pd.set_option('display.max_columns', 500)"
   ]
  },
  {
   "cell_type": "markdown",
   "metadata": {},
   "source": [
    "### Load the input data"
   ]
  },
  {
   "cell_type": "code",
   "execution_count": 22,
   "metadata": {},
   "outputs": [
    {
     "name": "stdout",
     "output_type": "stream",
     "text": [
      "initial_try  lightGBM_2  logistic  neuralNetwork  randomFRST  randomFRST_2\r\n"
     ]
    }
   ],
   "source": [
    "!ls ../output"
   ]
  },
  {
   "cell_type": "code",
   "execution_count": 23,
   "metadata": {
    "collapsed": true
   },
   "outputs": [],
   "source": [
    "model = \"randomFRST\""
   ]
  },
  {
   "cell_type": "code",
   "execution_count": 24,
   "metadata": {},
   "outputs": [
    {
     "name": "stdout",
     "output_type": "stream",
     "text": [
      "fold#1\n",
      "fold#2\n",
      "fold#3\n",
      "fold#4\n",
      "fold#5\n",
      "fold#6\n",
      "fold#7\n",
      "fold#8\n",
      "fold#9\n"
     ]
    }
   ],
   "source": [
    "df = pd.read_csv('../output/initial_try/fold_1/test_pred.csv')\n",
    "N = len(df)\n",
    "ids = df.click_id.tolist()\n",
    "ans = np.zeros(N)\n",
    "for i in range(1, 10):\n",
    "    print \"fold#\" + str(i)\n",
    "    df = pd.read_csv('../output/{0}/fold_{1}/test_pred.csv'.format(model, i))\n",
    "    ans += np.array(df.pred.tolist()) * 1./9.\n",
    "sub = pd.DataFrame({\n",
    "    'click_id': ids,\n",
    "    'is_attributed': list(ans)\n",
    "})\n",
    "sub.click_id = sub.click_id.astype(int)\n",
    "sub = sub[['click_id', 'is_attributed']]"
   ]
  },
  {
   "cell_type": "code",
   "execution_count": 25,
   "metadata": {},
   "outputs": [
    {
     "name": "stdout",
     "output_type": "stream",
     "text": [
      "   click_id  is_attributed\n",
      "0         0       0.015707\n",
      "1         1       0.019440\n",
      "2         2       0.010075\n"
     ]
    }
   ],
   "source": [
    "print sub.head(3)\n",
    "sub.to_csv('../{}_simple_ave.csv'.format(model), index=False)"
   ]
  },
  {
   "cell_type": "code",
   "execution_count": null,
   "metadata": {
    "collapsed": true
   },
   "outputs": [],
   "source": []
  }
 ],
 "metadata": {
  "kernelspec": {
   "display_name": "Python 2",
   "language": "python",
   "name": "python2"
  },
  "language_info": {
   "codemirror_mode": {
    "name": "ipython",
    "version": 2
   },
   "file_extension": ".py",
   "mimetype": "text/x-python",
   "name": "python",
   "nbconvert_exporter": "python",
   "pygments_lexer": "ipython2",
   "version": "2.7.13"
  }
 },
 "nbformat": 4,
 "nbformat_minor": 2
}
